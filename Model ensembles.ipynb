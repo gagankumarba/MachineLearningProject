{
 "cells": [
  {
   "cell_type": "code",
   "execution_count": 26,
   "id": "8c5ac467-548e-4762-8b14-cbc592ebac95",
   "metadata": {
    "tags": []
   },
   "outputs": [
    {
     "data": {
      "text/html": [
       "<div>\n",
       "<style scoped>\n",
       "    .dataframe tbody tr th:only-of-type {\n",
       "        vertical-align: middle;\n",
       "    }\n",
       "\n",
       "    .dataframe tbody tr th {\n",
       "        vertical-align: top;\n",
       "    }\n",
       "\n",
       "    .dataframe thead th {\n",
       "        text-align: right;\n",
       "    }\n",
       "</style>\n",
       "<table border=\"1\" class=\"dataframe\">\n",
       "  <thead>\n",
       "    <tr style=\"text-align: right;\">\n",
       "      <th></th>\n",
       "      <th>95</th>\n",
       "      <th>48</th>\n",
       "      <th>83</th>\n",
       "      <th>178</th>\n",
       "      <th>72</th>\n",
       "      <th>10</th>\n",
       "      <th>162</th>\n",
       "      <th>42</th>\n",
       "      <th>20</th>\n",
       "      <th>159</th>\n",
       "      <th>176</th>\n",
       "      <th>379</th>\n",
       "      <th>184</th>\n",
       "      <th>70</th>\n",
       "      <th>6</th>\n",
       "      <th>16</th>\n",
       "      <th>187</th>\n",
       "      <th>197</th>\n",
       "      <th>van</th>\n",
       "    </tr>\n",
       "  </thead>\n",
       "  <tbody>\n",
       "    <tr>\n",
       "      <th>0</th>\n",
       "      <td>91</td>\n",
       "      <td>41</td>\n",
       "      <td>84</td>\n",
       "      <td>141</td>\n",
       "      <td>57</td>\n",
       "      <td>9</td>\n",
       "      <td>149</td>\n",
       "      <td>45</td>\n",
       "      <td>19</td>\n",
       "      <td>143</td>\n",
       "      <td>170</td>\n",
       "      <td>330</td>\n",
       "      <td>158</td>\n",
       "      <td>72</td>\n",
       "      <td>9</td>\n",
       "      <td>14</td>\n",
       "      <td>189</td>\n",
       "      <td>199</td>\n",
       "      <td>van</td>\n",
       "    </tr>\n",
       "    <tr>\n",
       "      <th>1</th>\n",
       "      <td>104</td>\n",
       "      <td>50</td>\n",
       "      <td>106</td>\n",
       "      <td>209</td>\n",
       "      <td>66</td>\n",
       "      <td>10</td>\n",
       "      <td>207</td>\n",
       "      <td>32</td>\n",
       "      <td>23</td>\n",
       "      <td>158</td>\n",
       "      <td>223</td>\n",
       "      <td>635</td>\n",
       "      <td>220</td>\n",
       "      <td>73</td>\n",
       "      <td>14</td>\n",
       "      <td>9</td>\n",
       "      <td>188</td>\n",
       "      <td>196</td>\n",
       "      <td>saab</td>\n",
       "    </tr>\n",
       "    <tr>\n",
       "      <th>2</th>\n",
       "      <td>93</td>\n",
       "      <td>41</td>\n",
       "      <td>82</td>\n",
       "      <td>159</td>\n",
       "      <td>63</td>\n",
       "      <td>9</td>\n",
       "      <td>144</td>\n",
       "      <td>46</td>\n",
       "      <td>19</td>\n",
       "      <td>143</td>\n",
       "      <td>160</td>\n",
       "      <td>309</td>\n",
       "      <td>127</td>\n",
       "      <td>63</td>\n",
       "      <td>6</td>\n",
       "      <td>10</td>\n",
       "      <td>199</td>\n",
       "      <td>207</td>\n",
       "      <td>van</td>\n",
       "    </tr>\n",
       "    <tr>\n",
       "      <th>3</th>\n",
       "      <td>107</td>\n",
       "      <td>57</td>\n",
       "      <td>106</td>\n",
       "      <td>172</td>\n",
       "      <td>50</td>\n",
       "      <td>6</td>\n",
       "      <td>255</td>\n",
       "      <td>26</td>\n",
       "      <td>28</td>\n",
       "      <td>169</td>\n",
       "      <td>280</td>\n",
       "      <td>957</td>\n",
       "      <td>264</td>\n",
       "      <td>85</td>\n",
       "      <td>5</td>\n",
       "      <td>9</td>\n",
       "      <td>181</td>\n",
       "      <td>183</td>\n",
       "      <td>bus</td>\n",
       "    </tr>\n",
       "    <tr>\n",
       "      <th>4</th>\n",
       "      <td>97</td>\n",
       "      <td>43</td>\n",
       "      <td>73</td>\n",
       "      <td>173</td>\n",
       "      <td>65</td>\n",
       "      <td>6</td>\n",
       "      <td>153</td>\n",
       "      <td>42</td>\n",
       "      <td>19</td>\n",
       "      <td>143</td>\n",
       "      <td>176</td>\n",
       "      <td>361</td>\n",
       "      <td>172</td>\n",
       "      <td>66</td>\n",
       "      <td>13</td>\n",
       "      <td>1</td>\n",
       "      <td>200</td>\n",
       "      <td>204</td>\n",
       "      <td>bus</td>\n",
       "    </tr>\n",
       "    <tr>\n",
       "      <th>...</th>\n",
       "      <td>...</td>\n",
       "      <td>...</td>\n",
       "      <td>...</td>\n",
       "      <td>...</td>\n",
       "      <td>...</td>\n",
       "      <td>...</td>\n",
       "      <td>...</td>\n",
       "      <td>...</td>\n",
       "      <td>...</td>\n",
       "      <td>...</td>\n",
       "      <td>...</td>\n",
       "      <td>...</td>\n",
       "      <td>...</td>\n",
       "      <td>...</td>\n",
       "      <td>...</td>\n",
       "      <td>...</td>\n",
       "      <td>...</td>\n",
       "      <td>...</td>\n",
       "      <td>...</td>\n",
       "    </tr>\n",
       "    <tr>\n",
       "      <th>808</th>\n",
       "      <td>93</td>\n",
       "      <td>39</td>\n",
       "      <td>87</td>\n",
       "      <td>183</td>\n",
       "      <td>64</td>\n",
       "      <td>8</td>\n",
       "      <td>169</td>\n",
       "      <td>40</td>\n",
       "      <td>20</td>\n",
       "      <td>134</td>\n",
       "      <td>200</td>\n",
       "      <td>422</td>\n",
       "      <td>149</td>\n",
       "      <td>72</td>\n",
       "      <td>7</td>\n",
       "      <td>25</td>\n",
       "      <td>188</td>\n",
       "      <td>195</td>\n",
       "      <td>saab</td>\n",
       "    </tr>\n",
       "    <tr>\n",
       "      <th>809</th>\n",
       "      <td>89</td>\n",
       "      <td>46</td>\n",
       "      <td>84</td>\n",
       "      <td>163</td>\n",
       "      <td>66</td>\n",
       "      <td>11</td>\n",
       "      <td>159</td>\n",
       "      <td>43</td>\n",
       "      <td>20</td>\n",
       "      <td>159</td>\n",
       "      <td>173</td>\n",
       "      <td>368</td>\n",
       "      <td>176</td>\n",
       "      <td>72</td>\n",
       "      <td>1</td>\n",
       "      <td>20</td>\n",
       "      <td>186</td>\n",
       "      <td>197</td>\n",
       "      <td>van</td>\n",
       "    </tr>\n",
       "    <tr>\n",
       "      <th>810</th>\n",
       "      <td>106</td>\n",
       "      <td>54</td>\n",
       "      <td>101</td>\n",
       "      <td>222</td>\n",
       "      <td>67</td>\n",
       "      <td>12</td>\n",
       "      <td>222</td>\n",
       "      <td>30</td>\n",
       "      <td>25</td>\n",
       "      <td>173</td>\n",
       "      <td>228</td>\n",
       "      <td>721</td>\n",
       "      <td>200</td>\n",
       "      <td>70</td>\n",
       "      <td>3</td>\n",
       "      <td>4</td>\n",
       "      <td>187</td>\n",
       "      <td>201</td>\n",
       "      <td>saab</td>\n",
       "    </tr>\n",
       "    <tr>\n",
       "      <th>811</th>\n",
       "      <td>86</td>\n",
       "      <td>36</td>\n",
       "      <td>78</td>\n",
       "      <td>146</td>\n",
       "      <td>58</td>\n",
       "      <td>7</td>\n",
       "      <td>135</td>\n",
       "      <td>50</td>\n",
       "      <td>18</td>\n",
       "      <td>124</td>\n",
       "      <td>155</td>\n",
       "      <td>270</td>\n",
       "      <td>148</td>\n",
       "      <td>66</td>\n",
       "      <td>0</td>\n",
       "      <td>25</td>\n",
       "      <td>190</td>\n",
       "      <td>195</td>\n",
       "      <td>saab</td>\n",
       "    </tr>\n",
       "    <tr>\n",
       "      <th>812</th>\n",
       "      <td>85</td>\n",
       "      <td>36</td>\n",
       "      <td>66</td>\n",
       "      <td>123</td>\n",
       "      <td>55</td>\n",
       "      <td>5</td>\n",
       "      <td>120</td>\n",
       "      <td>56</td>\n",
       "      <td>17</td>\n",
       "      <td>128</td>\n",
       "      <td>140</td>\n",
       "      <td>212</td>\n",
       "      <td>131</td>\n",
       "      <td>73</td>\n",
       "      <td>1</td>\n",
       "      <td>18</td>\n",
       "      <td>186</td>\n",
       "      <td>190</td>\n",
       "      <td>van</td>\n",
       "    </tr>\n",
       "  </tbody>\n",
       "</table>\n",
       "<p>813 rows × 19 columns</p>\n",
       "</div>"
      ],
      "text/plain": [
       "      95  48   83  178  72  10  162  42  20  159  176  379  184  70   6  16  \\\n",
       "0     91  41   84  141  57   9  149  45  19  143  170  330  158  72   9  14   \n",
       "1    104  50  106  209  66  10  207  32  23  158  223  635  220  73  14   9   \n",
       "2     93  41   82  159  63   9  144  46  19  143  160  309  127  63   6  10   \n",
       "3    107  57  106  172  50   6  255  26  28  169  280  957  264  85   5   9   \n",
       "4     97  43   73  173  65   6  153  42  19  143  176  361  172  66  13   1   \n",
       "..   ...  ..  ...  ...  ..  ..  ...  ..  ..  ...  ...  ...  ...  ..  ..  ..   \n",
       "808   93  39   87  183  64   8  169  40  20  134  200  422  149  72   7  25   \n",
       "809   89  46   84  163  66  11  159  43  20  159  173  368  176  72   1  20   \n",
       "810  106  54  101  222  67  12  222  30  25  173  228  721  200  70   3   4   \n",
       "811   86  36   78  146  58   7  135  50  18  124  155  270  148  66   0  25   \n",
       "812   85  36   66  123  55   5  120  56  17  128  140  212  131  73   1  18   \n",
       "\n",
       "     187  197   van  \n",
       "0    189  199   van  \n",
       "1    188  196  saab  \n",
       "2    199  207   van  \n",
       "3    181  183   bus  \n",
       "4    200  204   bus  \n",
       "..   ...  ...   ...  \n",
       "808  188  195  saab  \n",
       "809  186  197   van  \n",
       "810  187  201  saab  \n",
       "811  190  195  saab  \n",
       "812  186  190   van  \n",
       "\n",
       "[813 rows x 19 columns]"
      ]
     },
     "execution_count": 26,
     "metadata": {},
     "output_type": "execute_result"
    }
   ],
   "source": [
    "import pandas as pd\n",
    "import numpy as np\n",
    "from sklearn.preprocessing import StandardScaler\n",
    "from sklearn.decomposition import PCA\n",
    "from imblearn.over_sampling import SMOTE\n",
    "from sklearn.feature_selection import SelectKBest, chi2\n",
    "from sklearn.neighbors import KNeighborsClassifier\n",
    "from sklearn.metrics import accuracy_score, confusion_matrix\n",
    "\n",
    "from sklearn.metrics import accuracy_score\n",
    "from sklearn.metrics import matthews_corrcoef\n",
    "from sklearn.metrics import f1_score\n",
    "\n",
    "\n",
    "df1 = pd.read_csv('cleaned_data.dat', sep=' ')                                                         \n",
    "df2 = pd.read_csv('noise_data.dat', sep=' ')\n",
    "df1"
   ]
  },
  {
   "cell_type": "code",
   "execution_count": 27,
   "id": "ff264dec-9a8d-4912-b97a-c8e411a88d7a",
   "metadata": {
    "tags": []
   },
   "outputs": [
    {
     "data": {
      "text/plain": [
       "((836, 10), (836,))"
      ]
     },
     "execution_count": 27,
     "metadata": {},
     "output_type": "execute_result"
    }
   ],
   "source": [
    "x1 = df1.drop('van', axis=1)\n",
    "\n",
    "x2 = df1.drop(['95', '48', '83', '178', 'van'], axis=1)\n",
    "x1.shape, x2.shape\n",
    "\n",
    "# Load the data into a DataFrame\n",
    "df = pd.read_csv('cleaned_data.dat', header=None, sep=' ')\n",
    "\n",
    "# Drop the extra column\n",
    "# df = df.drop(columns=[19])\n",
    "\n",
    "# Rename the last column as the target variable\n",
    "df.rename(columns={18: 'target'}, inplace=True)\n",
    "\n",
    "# Convert the target variable to string datatype\n",
    "df['target'] = df['target'].astype(str)\n",
    "\n",
    "# Scale the integer features\n",
    "scaler = StandardScaler()\n",
    "X = np.abs(scaler.fit_transform(df.iloc[:, :-1]))\n",
    "X = df.iloc[:, :-1]\n",
    "\n",
    "# Perform feature selection\n",
    "selector = SelectKBest(chi2, k=10)\n",
    "X_new = selector.fit_transform(X, df['target'])\n",
    "\n",
    "# Perform dimensionality reduction\n",
    "pca = PCA(n_components=10)\n",
    "X_new = pca.fit_transform(X_new)\n",
    "\n",
    "# Handle class imbalance\n",
    "smote = SMOTE()\n",
    "X_resampled, y_resampled = smote.fit_resample(X_new, df['target'])\n",
    "X_resampled.shape\n",
    "X_resampled\n",
    "x1 = X_resampled\n",
    "y1 = y_resampled\n",
    "x1.shape, y1.shape"
   ]
  },
  {
   "cell_type": "code",
   "execution_count": 28,
   "id": "27ec5ba7-4da0-4f0a-b2ed-883dc0e55cf3",
   "metadata": {
    "tags": []
   },
   "outputs": [],
   "source": [
    "# y1 = df1['van'].copy()\n",
    "# y1.shape"
   ]
  },
  {
   "cell_type": "code",
   "execution_count": 29,
   "id": "a45fe1c0-c032-4393-b206-66f6f6519f66",
   "metadata": {
    "tags": []
   },
   "outputs": [],
   "source": [
    "# from sklearn.feature_selection import VarianceThreshold\n",
    "\n",
    "# selection = VarianceThreshold((.8 * (1 - .8)))\n",
    "# x1 = selection.fit_transform(x1)\n",
    "\n",
    "# selection = VarianceThreshold((.8 * (1 - .8)))\n",
    "# x2 = selection.fit_transform(x2)\n",
    "# x1.shape, x2.shape"
   ]
  },
  {
   "cell_type": "code",
   "execution_count": 30,
   "id": "6b21eab7-e4f3-4788-98a7-ffb35bb3c563",
   "metadata": {
    "tags": []
   },
   "outputs": [
    {
     "data": {
      "text/plain": [
       "((668, 10), (168, 10))"
      ]
     },
     "execution_count": 30,
     "metadata": {},
     "output_type": "execute_result"
    }
   ],
   "source": [
    "# spliting the training set and testing set\n",
    "from sklearn.model_selection import train_test_split\n",
    "\n",
    "x1_train, x1_test, y1_train, y1_test = train_test_split(x1, y1, test_size=0.20, random_state=100)\n",
    "\n",
    "x1_train.shape, x1_test.shape"
   ]
  },
  {
   "cell_type": "code",
   "execution_count": 31,
   "id": "8b43d3dc-fba4-4be4-abc3-1a3d143c28fb",
   "metadata": {
    "tags": []
   },
   "outputs": [],
   "source": [
    "from sklearn.metrics import accuracy_score\n",
    "from sklearn.metrics import matthews_corrcoef\n",
    "from sklearn.metrics import f1_score"
   ]
  },
  {
   "cell_type": "markdown",
   "id": "ebce15e3-f21e-45bb-88ea-29c4b30a40fb",
   "metadata": {
    "tags": []
   },
   "source": [
    "K nearest neighbors"
   ]
  },
  {
   "cell_type": "code",
   "execution_count": 25,
   "id": "84127371-3f38-4530-967a-5ead7be31b0b",
   "metadata": {
    "tags": []
   },
   "outputs": [
    {
     "name": "stdout",
     "output_type": "stream",
     "text": [
      "Model performance for Training set\n",
      "- Accuracy: 0.7574850299401198\n",
      "- MCC: 0.6778148428259196\n",
      "- F1 score: 0.750506019015683\n",
      "----------------------------------\n",
      "Model performance for Test set\n",
      "- Accuracy: 0.6071428571428571\n",
      "- MCC: 0.48159099799388627\n",
      "- F1 score: 0.5855270865700533\n"
     ]
    },
    {
     "name": "stderr",
     "output_type": "stream",
     "text": [
      "C:\\Users\\james\\anaconda3\\lib\\site-packages\\sklearn\\neighbors\\_classification.py:228: FutureWarning: Unlike other reduction functions (e.g. `skew`, `kurtosis`), the default behavior of `mode` typically preserves the axis it acts along. In SciPy 1.11.0, this behavior will change: the default value of `keepdims` will become False, the `axis` over which the statistic is taken will be eliminated, and the value None will no longer be accepted. Set `keepdims` to True or False to avoid this warning.\n",
      "  mode, _ = stats.mode(_y[neigh_ind, k], axis=1)\n",
      "C:\\Users\\james\\anaconda3\\lib\\site-packages\\sklearn\\neighbors\\_classification.py:228: FutureWarning: Unlike other reduction functions (e.g. `skew`, `kurtosis`), the default behavior of `mode` typically preserves the axis it acts along. In SciPy 1.11.0, this behavior will change: the default value of `keepdims` will become False, the `axis` over which the statistic is taken will be eliminated, and the value None will no longer be accepted. Set `keepdims` to True or False to avoid this warning.\n",
      "  mode, _ = stats.mode(_y[neigh_ind, k], axis=1)\n"
     ]
    }
   ],
   "source": [
    "from sklearn.neighbors import KNeighborsClassifier\n",
    "\n",
    "knn = KNeighborsClassifier(5) # Define classifier\n",
    "knn.fit(x1_train, y1_train) # Train model\n",
    "\n",
    "# Make predictions\n",
    "y_train_pred = knn.predict(x1_train)\n",
    "y_test_pred = knn.predict(x1_test)\n",
    "\n",
    "# Training set performance\n",
    "knn_train_accuracy = accuracy_score(y1_train, y_train_pred) # Calculate Accuracy\n",
    "knn_train_mcc = matthews_corrcoef(y1_train, y_train_pred) # Calculate MCC\n",
    "knn_train_f1 = f1_score(y1_train, y_train_pred, average='weighted') # Calculate F1-score\n",
    "\n",
    "# Test set performance\n",
    "knn_test_accuracy = accuracy_score(y1_test, y_test_pred) # Calculate Accuracy\n",
    "knn_test_mcc = matthews_corrcoef(y1_test, y_test_pred) # Calculate MCC\n",
    "knn_test_f1 = f1_score(y1_test, y_test_pred, average='weighted') # Calculate F1-score\n",
    "\n",
    "print('Model performance for Training set')\n",
    "print('- Accuracy: %s' % knn_train_accuracy)\n",
    "print('- MCC: %s' % knn_train_mcc)\n",
    "print('- F1 score: %s' % knn_train_f1)\n",
    "print('----------------------------------')\n",
    "print('Model performance for Test set')\n",
    "print('- Accuracy: %s' % knn_test_accuracy)\n",
    "print('- MCC: %s' % knn_test_mcc)\n",
    "print('- F1 score: %s' % knn_test_f1)"
   ]
  },
  {
   "cell_type": "markdown",
   "id": "4f3d4e44-7c1e-49b0-958c-90a1cc754508",
   "metadata": {},
   "source": [
    "Support vector machine (Radial basis function kernel)"
   ]
  },
  {
   "cell_type": "code",
   "execution_count": null,
   "id": "2bc193bc-89e9-4018-99f7-a17c8c7a8104",
   "metadata": {
    "tags": []
   },
   "outputs": [
    {
     "name": "stdout",
     "output_type": "stream",
     "text": [
      "Model performance for Training set\n",
      "- Accuracy: 1.0\n",
      "- MCC: 1.0\n",
      "- F1 score: 1.0\n",
      "----------------------------------\n",
      "Model performance for Test set\n",
      "- Accuracy: 0.19047619047619047\n",
      "- MCC: 0.0\n",
      "- F1 score: 0.06095238095238095\n"
     ]
    }
   ],
   "source": [
    "from sklearn.svm import SVC\n",
    "\n",
    "svm_rbf = SVC(gamma=2, C=1)\n",
    "svm_rbf.fit(x1_train, y1_train)\n",
    "\n",
    "# Make predictions\n",
    "y_train_pred = svm_rbf.predict(x1_train)\n",
    "y_test_pred = svm_rbf.predict(x1_test)\n",
    "\n",
    "# Training set performance\n",
    "svm_rbf_train_accuracy = accuracy_score(y1_train, y_train_pred) # Calculate Accuracy\n",
    "svm_rbf_train_mcc = matthews_corrcoef(y1_train, y_train_pred) # Calculate MCC\n",
    "svm_rbf_train_f1 = f1_score(y1_train, y_train_pred, average='weighted') # Calculate F1-score\n",
    "\n",
    "# Test set performance\n",
    "svm_rbf_test_accuracy = accuracy_score(y1_test, y_test_pred) # Calculate Accuracy\n",
    "svm_rbf_test_mcc = matthews_corrcoef(y1_test, y_test_pred) # Calculate MCC\n",
    "svm_rbf_test_f1 = f1_score(y1_test, y_test_pred, average='weighted') # Calculate F1-score\n",
    "\n",
    "print('Model performance for Training set')\n",
    "print('- Accuracy: %s' % svm_rbf_train_accuracy)\n",
    "print('- MCC: %s' % svm_rbf_train_mcc)\n",
    "print('- F1 score: %s' % svm_rbf_train_f1)\n",
    "print('----------------------------------')\n",
    "print('Model performance for Test set')\n",
    "print('- Accuracy: %s' % svm_rbf_test_accuracy)\n",
    "print('- MCC: %s' % svm_rbf_test_mcc)\n",
    "print('- F1 score: %s' % svm_rbf_test_f1)"
   ]
  },
  {
   "cell_type": "markdown",
   "id": "feeb635c-8814-4a3d-9a0a-2232a0d5947d",
   "metadata": {},
   "source": [
    "Decision tree"
   ]
  },
  {
   "cell_type": "code",
   "execution_count": null,
   "id": "748d0ce9-429c-4202-aeaa-9298f7281185",
   "metadata": {},
   "outputs": [
    {
     "name": "stdout",
     "output_type": "stream",
     "text": [
      "Model performance for Training set\n",
      "- Accuracy: 0.781437125748503\n",
      "- MCC: 0.716053393362593\n",
      "- F1 score: 0.7702978408571352\n",
      "----------------------------------\n",
      "Model performance for Test set\n",
      "- Accuracy: 0.6190476190476191\n",
      "- MCC: 0.5088361961701604\n",
      "- F1 score: 0.5942216624231699\n"
     ]
    }
   ],
   "source": [
    "from sklearn.tree import DecisionTreeClassifier\n",
    "\n",
    "dt = DecisionTreeClassifier(max_depth=5) # Define classifier\n",
    "dt.fit(x1_train, y1_train) # Train model\n",
    "\n",
    "# Make predictions\n",
    "y_train_pred = dt.predict(x1_train)\n",
    "y_test_pred = dt.predict(x1_test)\n",
    "\n",
    "# Training set performance\n",
    "dt_train_accuracy = accuracy_score(y1_train, y_train_pred) # Calculate Accuracy\n",
    "dt_train_mcc = matthews_corrcoef(y1_train, y_train_pred) # Calculate MCC\n",
    "dt_train_f1 = f1_score(y1_train, y_train_pred, average='weighted') # Calculate F1-score\n",
    "\n",
    "# Test set performance\n",
    "dt_test_accuracy = accuracy_score(y1_test, y_test_pred) # Calculate Accuracy\n",
    "dt_test_mcc = matthews_corrcoef(y1_test, y_test_pred) # Calculate MCC\n",
    "dt_test_f1 = f1_score(y1_test, y_test_pred, average='weighted') # Calculate F1-score\n",
    "\n",
    "print('Model performance for Training set')\n",
    "print('- Accuracy: %s' % dt_train_accuracy)\n",
    "print('- MCC: %s' % dt_train_mcc)\n",
    "print('- F1 score: %s' % dt_train_f1)\n",
    "print('----------------------------------')\n",
    "print('Model performance for Test set')\n",
    "print('- Accuracy: %s' % dt_test_accuracy)\n",
    "print('- MCC: %s' % dt_test_mcc)\n",
    "print('- F1 score: %s' % dt_test_f1)"
   ]
  },
  {
   "cell_type": "markdown",
   "id": "ae9a94a5-c86b-4ebc-99d4-3dca11423071",
   "metadata": {},
   "source": [
    "Neural Network"
   ]
  },
  {
   "cell_type": "code",
   "execution_count": 38,
   "id": "07b54d80-7076-470c-af0e-a882004a3ade",
   "metadata": {
    "tags": []
   },
   "outputs": [
    {
     "name": "stdout",
     "output_type": "stream",
     "text": [
      "Model performance for Training set\n",
      "- Accuracy: 0.7994011976047904\n",
      "- MCC: 0.7451125741400471\n",
      "- F1 score: 0.7850048553478955\n",
      "----------------------------------\n",
      "Model performance for Test set\n",
      "- Accuracy: 0.6428571428571429\n",
      "- MCC: 0.5508696804085369\n",
      "- F1 score: 0.6205225700317935\n"
     ]
    }
   ],
   "source": [
    "from sklearn.neural_network import MLPClassifier\n",
    "\n",
    "mlp = MLPClassifier(alpha=1, max_iter=1000)\n",
    "mlp.fit(x1_train, y1_train)\n",
    "\n",
    "# Make predictions\n",
    "y_train_pred = mlp.predict(x1_train)\n",
    "y_test_pred = mlp.predict(x1_test)\n",
    "\n",
    "# Training set performance\n",
    "mlp_train_accuracy = accuracy_score(y1_train, y_train_pred) # Calculate Accuracy\n",
    "mlp_train_mcc = matthews_corrcoef(y1_train, y_train_pred) # Calculate MCC\n",
    "mlp_train_f1 = f1_score(y1_train, y_train_pred, average='weighted') # Calculate F1-score\n",
    "\n",
    "# Test set performance\n",
    "mlp_test_accuracy = accuracy_score(y1_test, y_test_pred) # Calculate Accuracy\n",
    "mlp_test_mcc = matthews_corrcoef(y1_test, y_test_pred) # Calculate MCC\n",
    "mlp_test_f1 = f1_score(y1_test, y_test_pred, average='weighted') # Calculate F1-score\n",
    "\n",
    "print('Model performance for Training set')\n",
    "print('- Accuracy: %s' % mlp_train_accuracy)\n",
    "print('- MCC: %s' % mlp_train_mcc)\n",
    "print('- F1 score: %s' % mlp_train_f1)\n",
    "print('----------------------------------')\n",
    "print('Model performance for Test set')\n",
    "print('- Accuracy: %s' % mlp_test_accuracy)\n",
    "print('- MCC: %s' % mlp_test_mcc)\n",
    "print('- F1 score: %s' % mlp_test_f1)"
   ]
  },
  {
   "cell_type": "markdown",
   "id": "e8054114-e0bb-4ca9-9265-dab37b88f522",
   "metadata": {},
   "source": [
    "Build Stacked Model"
   ]
  },
  {
   "cell_type": "code",
   "execution_count": 39,
   "id": "86007133-e81c-4fae-a692-e82ad472541c",
   "metadata": {
    "tags": []
   },
   "outputs": [
    {
     "name": "stdout",
     "output_type": "stream",
     "text": [
      "Stacking performance for Training set\n",
      "- Accuracy: 0.812874251497006\n",
      "- MCC: 0.7527997567991488\n",
      "- F1 score: 0.8038853300926594\n",
      "----------------------------------\n",
      "Stacking performance for Test set\n",
      "- Accuracy: 0.6845238095238095\n",
      "- MCC: 0.5849381664591969\n",
      "- F1 score: 0.675933763656978\n",
      "----------------------------------\n",
      "Voting performance for Training set\n",
      "- Accuracy: 0.9206586826347305\n",
      "----------------------------------\n",
      "Voting performance for Test set\n",
      "- Accuracy: 0.6547619047619048\n"
     ]
    },
    {
     "name": "stderr",
     "output_type": "stream",
     "text": [
      "C:\\Users\\james\\anaconda3\\lib\\site-packages\\sklearn\\neighbors\\_classification.py:228: FutureWarning: Unlike other reduction functions (e.g. `skew`, `kurtosis`), the default behavior of `mode` typically preserves the axis it acts along. In SciPy 1.11.0, this behavior will change: the default value of `keepdims` will become False, the `axis` over which the statistic is taken will be eliminated, and the value None will no longer be accepted. Set `keepdims` to True or False to avoid this warning.\n",
      "  mode, _ = stats.mode(_y[neigh_ind, k], axis=1)\n",
      "C:\\Users\\james\\anaconda3\\lib\\site-packages\\sklearn\\neighbors\\_classification.py:228: FutureWarning: Unlike other reduction functions (e.g. `skew`, `kurtosis`), the default behavior of `mode` typically preserves the axis it acts along. In SciPy 1.11.0, this behavior will change: the default value of `keepdims` will become False, the `axis` over which the statistic is taken will be eliminated, and the value None will no longer be accepted. Set `keepdims` to True or False to avoid this warning.\n",
      "  mode, _ = stats.mode(_y[neigh_ind, k], axis=1)\n"
     ]
    }
   ],
   "source": [
    "# Define estimators\n",
    "from sklearn.ensemble import StackingClassifier, VotingClassifier\n",
    "from sklearn.linear_model import LogisticRegression\n",
    "\n",
    "estimator_list = [\n",
    "    ('knn',knn),\n",
    "    ('svm_rbf',svm_rbf),\n",
    "    ('dt',dt),\n",
    "    ('mlp',mlp) ]\n",
    "\n",
    "# Build stack model\n",
    "stack_model = StackingClassifier(\n",
    "    estimators=estimator_list, final_estimator=LogisticRegression(solver='lbfgs', max_iter=1000))\n",
    "\n",
    "# Train stacked model\n",
    "stack_model.fit(x1_train, y1_train)\n",
    "\n",
    "# Make predictions\n",
    "y_train_pred = stack_model.predict(x1_train)\n",
    "y_test_pred = stack_model.predict(x1_test)\n",
    "\n",
    "# Training set model performance\n",
    "stack_model_train_accuracy = accuracy_score(y1_train, y_train_pred) # Calculate Accuracy\n",
    "stack_model_train_mcc = matthews_corrcoef(y1_train, y_train_pred) # Calculate MCC\n",
    "stack_model_train_f1 = f1_score(y1_train, y_train_pred, average='weighted') # Calculate F1-score\n",
    "\n",
    "# Test set model performance\n",
    "stack_model_test_accuracy = accuracy_score(y1_test, y_test_pred) # Calculate Accuracy\n",
    "stack_model_test_mcc = matthews_corrcoef(y1_test, y_test_pred) # Calculate MCC\n",
    "stack_model_test_f1 = f1_score(y1_test, y_test_pred, average='weighted') # Calculate F1-score\n",
    "\n",
    "print('Stacking performance for Training set')\n",
    "print('- Accuracy: %s' % stack_model_train_accuracy)\n",
    "print('- MCC: %s' % stack_model_train_mcc)\n",
    "print('- F1 score: %s' % stack_model_train_f1)\n",
    "print('----------------------------------')\n",
    "print('Stacking performance for Test set')\n",
    "print('- Accuracy: %s' % stack_model_test_accuracy)\n",
    "print('- MCC: %s' % stack_model_test_mcc)\n",
    "print('- F1 score: %s' % stack_model_test_f1)\n",
    "\n",
    "# ----------------------------------------------------------------------------------------------------\n",
    "\n",
    "# Build voting mechanism\n",
    "voting_clf = VotingClassifier(\n",
    "    estimators= estimator_list, voting='hard')\n",
    "\n",
    "# Train voting mechanism\n",
    "voting_clf.fit(x1_train, y1_train)\n",
    "\n",
    "# Make predictions\n",
    "y_train_pred2 = voting_clf.predict(x1_train)\n",
    "y_test_pred2 = voting_clf.predict(x1_test)\n",
    "\n",
    "# Training set model performance\n",
    "vote_model_train_accuracy = accuracy_score(y1_train, y_train_pred2)\n",
    "\n",
    "# Test set model performance\n",
    "vote_model_test_accuracy = accuracy_score(y1_test, y_test_pred2)\n",
    "\n",
    "print('----------------------------------')\n",
    "print('Voting performance for Training set')\n",
    "print('- Accuracy: %s' % vote_model_train_accuracy)\n",
    "print('----------------------------------')\n",
    "print('Voting performance for Test set')\n",
    "print('- Accuracy: %s' % vote_model_test_accuracy)"
   ]
  },
  {
   "cell_type": "code",
   "execution_count": 73,
   "id": "7d307f0e-58ac-4f09-8490-22d0fe56ae30",
   "metadata": {
    "tags": []
   },
   "outputs": [],
   "source": [
    "# defining the classifiers\n",
    "from sklearn.neighbors import KNeighborsClassifier\n",
    "from sklearn.svm import SVC\n",
    "from sklearn.naive_bayes import MultinomialNB\n",
    "from sklearn.tree import DecisionTreeClassifier\n",
    "from sklearn.neural_network import MLPClassifier\n",
    "\n",
    "svm_clf = SVC(C=0.1)\n",
    "nb_clf = MultinomialNB()\n",
    "dt_clf = DecisionTreeClassifier()\n",
    "mlp_clf = MLPClassifier(solver='lbfgs', alpha=1e-5, hidden_layer_sizes=(5, 2), random_state=1)"
   ]
  },
  {
   "cell_type": "code",
   "execution_count": 150,
   "id": "479fc836-076b-4827-9752-b8ff24289255",
   "metadata": {
    "tags": []
   },
   "outputs": [],
   "source": [
    "#defining the voting mechanism\n",
    "from sklearn.ensemble import VotingClassifier\n",
    "\n",
    "voting_clf = VotingClassifier(\n",
    "    estimators=[('svm', svm_clf), ('nb', nb_clf), ('df', dt_clf), ('mlp', mlp_clf)], voting='hard')"
   ]
  },
  {
   "cell_type": "code",
   "execution_count": 75,
   "id": "032dac50-168f-4abd-b5d5-8fc9b9ce3cd4",
   "metadata": {
    "tags": []
   },
   "outputs": [
    {
     "data": {
      "text/plain": [
       "VotingClassifier(estimators=[('svm', SVC(C=0.1)), ('nb', MultinomialNB()),\n",
       "                             ('df', DecisionTreeClassifier()),\n",
       "                             ('mlp',\n",
       "                              MLPClassifier(alpha=1e-05,\n",
       "                                            hidden_layer_sizes=(5, 2),\n",
       "                                            random_state=1, solver='lbfgs'))])"
      ]
     },
     "execution_count": 75,
     "metadata": {},
     "output_type": "execute_result"
    }
   ],
   "source": [
    "voting_clf.fit(x1_train, y1_train)"
   ]
  },
  {
   "cell_type": "code",
   "execution_count": 77,
   "id": "9ef11ed6-bab5-46b0-abd1-859f2dc6843d",
   "metadata": {
    "tags": []
   },
   "outputs": [],
   "source": [
    "for clf in (svm_clf, nb_clf, dt_clf, mlp_clf):\n",
    "    clf.fit(xs_train, ys_train)"
   ]
  },
  {
   "cell_type": "code",
   "execution_count": 78,
   "id": "43eb4ef1-0a53-4fde-b60e-433aecc6c829",
   "metadata": {
    "tags": []
   },
   "outputs": [
    {
     "name": "stdout",
     "output_type": "stream",
     "text": [
      "SVC\n",
      "\ttrain: 0.40307692307692305\n",
      "\ttest: 0.4110429447852761\n",
      "MultinomialNB\n",
      "\ttrain: 0.4369230769230769\n",
      "\ttest: 0.4171779141104294\n",
      "DecisionTreeClassifier\n",
      "\ttrain: 1.0\n",
      "\ttest: 0.754601226993865\n",
      "MLPClassifier\n",
      "\ttrain: 0.26615384615384613\n",
      "\ttest: 0.2147239263803681\n",
      "VotingClassifier\n",
      "\ttrain: 0.5507692307692308\n",
      "\ttest: 0.4601226993865031\n"
     ]
    }
   ],
   "source": [
    "# measure the train and test accuracy of each classifier, including the ensembled one\n",
    "from sklearn.metrics import accuracy_score\n",
    "\n",
    "for clf in (svm_clf, nb_clf, dt_clf, mlp_clf, voting_clf):\n",
    "    print(clf.__class__.__name__)\n",
    "    ys_pred = clf.predict(xs_train)\n",
    "    print('\\ttrain:', accuracy_score(ys_train, ys_pred))\n",
    "    ys_pred = clf.predict(xs_test)\n",
    "    print('\\ttest:', accuracy_score(ys_test, ys_pred))"
   ]
  }
 ],
 "metadata": {
  "kernelspec": {
   "display_name": "Python 3 (ipykernel)",
   "language": "python",
   "name": "python3"
  },
  "language_info": {
   "codemirror_mode": {
    "name": "ipython",
    "version": 3
   },
   "file_extension": ".py",
   "mimetype": "text/x-python",
   "name": "python",
   "nbconvert_exporter": "python",
   "pygments_lexer": "ipython3",
   "version": "3.9.15"
  }
 },
 "nbformat": 4,
 "nbformat_minor": 5
}
