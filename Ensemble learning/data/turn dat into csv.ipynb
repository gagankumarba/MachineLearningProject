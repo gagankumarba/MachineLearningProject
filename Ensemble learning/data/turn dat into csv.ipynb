{
 "cells": [
  {
   "cell_type": "code",
   "execution_count": 1,
   "id": "fda6c511",
   "metadata": {
    "tags": []
   },
   "outputs": [],
   "source": [
    "import os\n",
    "\n",
    "path_0 = r\"data\"   # Original document path\n",
    "path_1 = r\"data\"   # Save path\n",
    "filelist = os.listdir(path_0)  # List of files in the directory\n",
    "\n",
    "for files in filelist:\n",
    "    dir_path = os.path.join(path_0, files)\n",
    "    # Separate file names and file types\n",
    "    file_name = os.path.splitext(files)[0]  # file names\n",
    "    file_type = os.path.splitext(files)[1]  # file types\n",
    "    # Converting .dat files to .csv files\n",
    "    if file_type == '.dat': \n",
    "        file_test = open(dir_path, 'rb')  # Read original file\n",
    "        new_dir = os.path.join(path_1, str(file_name) + '.csv')\n",
    "        # print(new_dir)\n",
    "        file_test2 = open(new_dir, 'wb')  # create/modify new file\n",
    "        for lines in file_test.readlines():\n",
    "            lines = lines.decode()\n",
    "            str_data = \",\".join(lines.split(' '))  # Separators are determined by our own documentation\n",
    "            file_test2.write(str_data.encode(\"utf-8\"))\n",
    "        file_test.close()\n",
    "        file_test2.close()"
   ]
  },
  {
   "cell_type": "code",
   "execution_count": null,
   "id": "ff5f1aa0-a87c-426e-b7cc-49059ac72850",
   "metadata": {},
   "outputs": [],
   "source": []
  }
 ],
 "metadata": {
  "kernelspec": {
   "display_name": "Python 3 (ipykernel)",
   "language": "python",
   "name": "python3"
  },
  "language_info": {
   "codemirror_mode": {
    "name": "ipython",
    "version": 3
   },
   "file_extension": ".py",
   "mimetype": "text/x-python",
   "name": "python",
   "nbconvert_exporter": "python",
   "pygments_lexer": "ipython3",
   "version": "3.9.15"
  }
 },
 "nbformat": 4,
 "nbformat_minor": 5
}
