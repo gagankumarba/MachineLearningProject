{
 "cells": [
  {
   "cell_type": "code",
   "execution_count": 10,
   "id": "8c5ac467-548e-4762-8b14-cbc592ebac95",
   "metadata": {
    "tags": []
   },
   "outputs": [
    {
     "data": {
      "text/html": [
       "<div>\n",
       "<style scoped>\n",
       "    .dataframe tbody tr th:only-of-type {\n",
       "        vertical-align: middle;\n",
       "    }\n",
       "\n",
       "    .dataframe tbody tr th {\n",
       "        vertical-align: top;\n",
       "    }\n",
       "\n",
       "    .dataframe thead th {\n",
       "        text-align: right;\n",
       "    }\n",
       "</style>\n",
       "<table border=\"1\" class=\"dataframe\">\n",
       "  <thead>\n",
       "    <tr style=\"text-align: right;\">\n",
       "      <th></th>\n",
       "      <th>95</th>\n",
       "      <th>48</th>\n",
       "      <th>83</th>\n",
       "      <th>178</th>\n",
       "      <th>72</th>\n",
       "      <th>10</th>\n",
       "      <th>162</th>\n",
       "      <th>42</th>\n",
       "      <th>20</th>\n",
       "      <th>159</th>\n",
       "      <th>176</th>\n",
       "      <th>379</th>\n",
       "      <th>184</th>\n",
       "      <th>70</th>\n",
       "      <th>6</th>\n",
       "      <th>16</th>\n",
       "      <th>187</th>\n",
       "      <th>197</th>\n",
       "      <th>van</th>\n",
       "    </tr>\n",
       "  </thead>\n",
       "  <tbody>\n",
       "    <tr>\n",
       "      <th>0</th>\n",
       "      <td>91</td>\n",
       "      <td>41</td>\n",
       "      <td>84</td>\n",
       "      <td>141</td>\n",
       "      <td>57</td>\n",
       "      <td>9</td>\n",
       "      <td>149</td>\n",
       "      <td>45</td>\n",
       "      <td>19</td>\n",
       "      <td>143</td>\n",
       "      <td>170</td>\n",
       "      <td>330</td>\n",
       "      <td>158</td>\n",
       "      <td>72</td>\n",
       "      <td>9</td>\n",
       "      <td>14</td>\n",
       "      <td>189</td>\n",
       "      <td>199</td>\n",
       "      <td>van</td>\n",
       "    </tr>\n",
       "    <tr>\n",
       "      <th>1</th>\n",
       "      <td>104</td>\n",
       "      <td>50</td>\n",
       "      <td>106</td>\n",
       "      <td>209</td>\n",
       "      <td>66</td>\n",
       "      <td>10</td>\n",
       "      <td>207</td>\n",
       "      <td>32</td>\n",
       "      <td>23</td>\n",
       "      <td>158</td>\n",
       "      <td>223</td>\n",
       "      <td>635</td>\n",
       "      <td>220</td>\n",
       "      <td>73</td>\n",
       "      <td>14</td>\n",
       "      <td>9</td>\n",
       "      <td>188</td>\n",
       "      <td>196</td>\n",
       "      <td>saab</td>\n",
       "    </tr>\n",
       "    <tr>\n",
       "      <th>2</th>\n",
       "      <td>93</td>\n",
       "      <td>41</td>\n",
       "      <td>82</td>\n",
       "      <td>159</td>\n",
       "      <td>63</td>\n",
       "      <td>9</td>\n",
       "      <td>144</td>\n",
       "      <td>46</td>\n",
       "      <td>19</td>\n",
       "      <td>143</td>\n",
       "      <td>160</td>\n",
       "      <td>309</td>\n",
       "      <td>127</td>\n",
       "      <td>63</td>\n",
       "      <td>6</td>\n",
       "      <td>10</td>\n",
       "      <td>199</td>\n",
       "      <td>207</td>\n",
       "      <td>van</td>\n",
       "    </tr>\n",
       "    <tr>\n",
       "      <th>3</th>\n",
       "      <td>85</td>\n",
       "      <td>44</td>\n",
       "      <td>70</td>\n",
       "      <td>205</td>\n",
       "      <td>103</td>\n",
       "      <td>52</td>\n",
       "      <td>149</td>\n",
       "      <td>45</td>\n",
       "      <td>19</td>\n",
       "      <td>144</td>\n",
       "      <td>241</td>\n",
       "      <td>325</td>\n",
       "      <td>188</td>\n",
       "      <td>127</td>\n",
       "      <td>9</td>\n",
       "      <td>11</td>\n",
       "      <td>180</td>\n",
       "      <td>183</td>\n",
       "      <td>bus</td>\n",
       "    </tr>\n",
       "    <tr>\n",
       "      <th>4</th>\n",
       "      <td>107</td>\n",
       "      <td>57</td>\n",
       "      <td>106</td>\n",
       "      <td>172</td>\n",
       "      <td>50</td>\n",
       "      <td>6</td>\n",
       "      <td>255</td>\n",
       "      <td>26</td>\n",
       "      <td>28</td>\n",
       "      <td>169</td>\n",
       "      <td>280</td>\n",
       "      <td>957</td>\n",
       "      <td>264</td>\n",
       "      <td>85</td>\n",
       "      <td>5</td>\n",
       "      <td>9</td>\n",
       "      <td>181</td>\n",
       "      <td>183</td>\n",
       "      <td>bus</td>\n",
       "    </tr>\n",
       "    <tr>\n",
       "      <th>...</th>\n",
       "      <td>...</td>\n",
       "      <td>...</td>\n",
       "      <td>...</td>\n",
       "      <td>...</td>\n",
       "      <td>...</td>\n",
       "      <td>...</td>\n",
       "      <td>...</td>\n",
       "      <td>...</td>\n",
       "      <td>...</td>\n",
       "      <td>...</td>\n",
       "      <td>...</td>\n",
       "      <td>...</td>\n",
       "      <td>...</td>\n",
       "      <td>...</td>\n",
       "      <td>...</td>\n",
       "      <td>...</td>\n",
       "      <td>...</td>\n",
       "      <td>...</td>\n",
       "      <td>...</td>\n",
       "    </tr>\n",
       "    <tr>\n",
       "      <th>840</th>\n",
       "      <td>93</td>\n",
       "      <td>39</td>\n",
       "      <td>87</td>\n",
       "      <td>183</td>\n",
       "      <td>64</td>\n",
       "      <td>8</td>\n",
       "      <td>169</td>\n",
       "      <td>40</td>\n",
       "      <td>20</td>\n",
       "      <td>134</td>\n",
       "      <td>200</td>\n",
       "      <td>422</td>\n",
       "      <td>149</td>\n",
       "      <td>72</td>\n",
       "      <td>7</td>\n",
       "      <td>25</td>\n",
       "      <td>188</td>\n",
       "      <td>195</td>\n",
       "      <td>saab</td>\n",
       "    </tr>\n",
       "    <tr>\n",
       "      <th>841</th>\n",
       "      <td>89</td>\n",
       "      <td>46</td>\n",
       "      <td>84</td>\n",
       "      <td>163</td>\n",
       "      <td>66</td>\n",
       "      <td>11</td>\n",
       "      <td>159</td>\n",
       "      <td>43</td>\n",
       "      <td>20</td>\n",
       "      <td>159</td>\n",
       "      <td>173</td>\n",
       "      <td>368</td>\n",
       "      <td>176</td>\n",
       "      <td>72</td>\n",
       "      <td>1</td>\n",
       "      <td>20</td>\n",
       "      <td>186</td>\n",
       "      <td>197</td>\n",
       "      <td>van</td>\n",
       "    </tr>\n",
       "    <tr>\n",
       "      <th>842</th>\n",
       "      <td>106</td>\n",
       "      <td>54</td>\n",
       "      <td>101</td>\n",
       "      <td>222</td>\n",
       "      <td>67</td>\n",
       "      <td>12</td>\n",
       "      <td>222</td>\n",
       "      <td>30</td>\n",
       "      <td>25</td>\n",
       "      <td>173</td>\n",
       "      <td>228</td>\n",
       "      <td>721</td>\n",
       "      <td>200</td>\n",
       "      <td>70</td>\n",
       "      <td>3</td>\n",
       "      <td>4</td>\n",
       "      <td>187</td>\n",
       "      <td>201</td>\n",
       "      <td>saab</td>\n",
       "    </tr>\n",
       "    <tr>\n",
       "      <th>843</th>\n",
       "      <td>86</td>\n",
       "      <td>36</td>\n",
       "      <td>78</td>\n",
       "      <td>146</td>\n",
       "      <td>58</td>\n",
       "      <td>7</td>\n",
       "      <td>135</td>\n",
       "      <td>50</td>\n",
       "      <td>18</td>\n",
       "      <td>124</td>\n",
       "      <td>155</td>\n",
       "      <td>270</td>\n",
       "      <td>148</td>\n",
       "      <td>66</td>\n",
       "      <td>0</td>\n",
       "      <td>25</td>\n",
       "      <td>190</td>\n",
       "      <td>195</td>\n",
       "      <td>saab</td>\n",
       "    </tr>\n",
       "    <tr>\n",
       "      <th>844</th>\n",
       "      <td>85</td>\n",
       "      <td>36</td>\n",
       "      <td>66</td>\n",
       "      <td>123</td>\n",
       "      <td>55</td>\n",
       "      <td>5</td>\n",
       "      <td>120</td>\n",
       "      <td>56</td>\n",
       "      <td>17</td>\n",
       "      <td>128</td>\n",
       "      <td>140</td>\n",
       "      <td>212</td>\n",
       "      <td>131</td>\n",
       "      <td>73</td>\n",
       "      <td>1</td>\n",
       "      <td>18</td>\n",
       "      <td>186</td>\n",
       "      <td>190</td>\n",
       "      <td>van</td>\n",
       "    </tr>\n",
       "  </tbody>\n",
       "</table>\n",
       "<p>845 rows × 19 columns</p>\n",
       "</div>"
      ],
      "text/plain": [
       "      95  48   83  178   72  10  162  42  20  159  176  379  184   70   6  16  \\\n",
       "0     91  41   84  141   57   9  149  45  19  143  170  330  158   72   9  14   \n",
       "1    104  50  106  209   66  10  207  32  23  158  223  635  220   73  14   9   \n",
       "2     93  41   82  159   63   9  144  46  19  143  160  309  127   63   6  10   \n",
       "3     85  44   70  205  103  52  149  45  19  144  241  325  188  127   9  11   \n",
       "4    107  57  106  172   50   6  255  26  28  169  280  957  264   85   5   9   \n",
       "..   ...  ..  ...  ...  ...  ..  ...  ..  ..  ...  ...  ...  ...  ...  ..  ..   \n",
       "840   93  39   87  183   64   8  169  40  20  134  200  422  149   72   7  25   \n",
       "841   89  46   84  163   66  11  159  43  20  159  173  368  176   72   1  20   \n",
       "842  106  54  101  222   67  12  222  30  25  173  228  721  200   70   3   4   \n",
       "843   86  36   78  146   58   7  135  50  18  124  155  270  148   66   0  25   \n",
       "844   85  36   66  123   55   5  120  56  17  128  140  212  131   73   1  18   \n",
       "\n",
       "     187  197   van  \n",
       "0    189  199   van  \n",
       "1    188  196  saab  \n",
       "2    199  207   van  \n",
       "3    180  183   bus  \n",
       "4    181  183   bus  \n",
       "..   ...  ...   ...  \n",
       "840  188  195  saab  \n",
       "841  186  197   van  \n",
       "842  187  201  saab  \n",
       "843  190  195  saab  \n",
       "844  186  190   van  \n",
       "\n",
       "[845 rows x 19 columns]"
      ]
     },
     "execution_count": 10,
     "metadata": {},
     "output_type": "execute_result"
    }
   ],
   "source": [
    "import pandas as pd\n",
    "df1 = pd.read_csv('final_data.csv')\n",
    "df1"
   ]
  },
  {
   "cell_type": "code",
   "execution_count": 9,
   "id": "ff264dec-9a8d-4912-b97a-c8e411a88d7a",
   "metadata": {
    "tags": []
   },
   "outputs": [
    {
     "data": {
      "text/plain": [
       "(845, 18)"
      ]
     },
     "execution_count": 9,
     "metadata": {},
     "output_type": "execute_result"
    }
   ],
   "source": [
    "x = df1.drop('van', axis=1)\n",
    "x.shape"
   ]
  },
  {
   "cell_type": "code",
   "execution_count": 11,
   "id": "27ec5ba7-4da0-4f0a-b2ed-883dc0e55cf3",
   "metadata": {
    "tags": []
   },
   "outputs": [
    {
     "data": {
      "text/plain": [
       "(845,)"
      ]
     },
     "execution_count": 11,
     "metadata": {},
     "output_type": "execute_result"
    }
   ],
   "source": [
    "y = df1['van'].copy()\n",
    "y.shape"
   ]
  },
  {
   "cell_type": "code",
   "execution_count": 12,
   "id": "a45fe1c0-c032-4393-b206-66f6f6519f66",
   "metadata": {
    "tags": []
   },
   "outputs": [
    {
     "data": {
      "text/plain": [
       "(845, 18)"
      ]
     },
     "execution_count": 12,
     "metadata": {},
     "output_type": "execute_result"
    }
   ],
   "source": [
    "from sklearn.feature_selection import VarianceThreshold\n",
    "\n",
    "selection = VarianceThreshold(threshold=(0.1))\n",
    "x = selection.fit_transform(x)\n",
    "x.shape"
   ]
  },
  {
   "cell_type": "code",
   "execution_count": 14,
   "id": "6b21eab7-e4f3-4788-98a7-ffb35bb3c563",
   "metadata": {
    "tags": []
   },
   "outputs": [],
   "source": [
    "# spliting the training set and testing set\n",
    "from sklearn.model_selection import train_test_split\n",
    "\n",
    "xs_train, xs_test, ys_train, ys_test = train_test_split(x, y, test_size=0.20, random_state=42)"
   ]
  },
  {
   "cell_type": "code",
   "execution_count": 16,
   "id": "7d307f0e-58ac-4f09-8490-22d0fe56ae30",
   "metadata": {
    "tags": []
   },
   "outputs": [],
   "source": [
    "# defining the classifiers\n",
    "from sklearn.svm import SVC\n",
    "from sklearn.naive_bayes import MultinomialNB\n",
    "from sklearn.tree import DecisionTreeClassifier\n",
    "from sklearn.neural_network import MLPClassifier\n",
    "\n",
    "svm_clf = SVC(C=0.1)\n",
    "nb_clf = MultinomialNB()\n",
    "dt_clf = DecisionTreeClassifier()\n",
    "mlp_clf = MLPClassifier(solver='lbfgs', alpha=1e-5, hidden_layer_sizes=(5, 2), random_state=1)"
   ]
  },
  {
   "cell_type": "code",
   "execution_count": 18,
   "id": "479fc836-076b-4827-9752-b8ff24289255",
   "metadata": {
    "tags": []
   },
   "outputs": [],
   "source": [
    "#defining the voting mechanism\n",
    "from sklearn.ensemble import VotingClassifier\n",
    "\n",
    "voting_clf = VotingClassifier(\n",
    "    estimators=[('svm', svm_clf), ('nb', nb_clf), ('df', dt_clf), ('mlp', mlp_clf)], voting='hard')"
   ]
  },
  {
   "cell_type": "code",
   "execution_count": 19,
   "id": "032dac50-168f-4abd-b5d5-8fc9b9ce3cd4",
   "metadata": {
    "tags": []
   },
   "outputs": [
    {
     "data": {
      "text/plain": [
       "VotingClassifier(estimators=[('svm', SVC(C=0.1)), ('nb', MultinomialNB()),\n",
       "                             ('df', DecisionTreeClassifier()),\n",
       "                             ('mlp',\n",
       "                              MLPClassifier(alpha=1e-05,\n",
       "                                            hidden_layer_sizes=(5, 2),\n",
       "                                            random_state=1, solver='lbfgs'))])"
      ]
     },
     "execution_count": 19,
     "metadata": {},
     "output_type": "execute_result"
    }
   ],
   "source": [
    "voting_clf.fit(xs_train, ys_train)"
   ]
  },
  {
   "cell_type": "code",
   "execution_count": 20,
   "id": "9ef11ed6-bab5-46b0-abd1-859f2dc6843d",
   "metadata": {
    "tags": []
   },
   "outputs": [],
   "source": [
    "for clf in (svm_clf, nb_clf, dt_clf, mlp_clf):\n",
    "    clf.fit(xs_train, ys_train)"
   ]
  },
  {
   "cell_type": "code",
   "execution_count": 21,
   "id": "43eb4ef1-0a53-4fde-b60e-433aecc6c829",
   "metadata": {
    "tags": []
   },
   "outputs": [
    {
     "name": "stdout",
     "output_type": "stream",
     "text": [
      "SVC\n",
      "\ttrain: 0.41124260355029585\n",
      "\ttest: 0.34911242603550297\n",
      "MultinomialNB\n",
      "\ttrain: 0.4437869822485207\n",
      "\ttest: 0.41420118343195267\n",
      "DecisionTreeClassifier\n",
      "\ttrain: 1.0\n",
      "\ttest: 0.7337278106508875\n",
      "MLPClassifier\n",
      "\ttrain: 0.2603550295857988\n",
      "\ttest: 0.2485207100591716\n",
      "VotingClassifier\n",
      "\ttrain: 0.6405325443786982\n",
      "\ttest: 0.5621301775147929\n"
     ]
    }
   ],
   "source": [
    "# measure the train and test accuracy of each classifier, including the ensembled one\n",
    "from sklearn.metrics import accuracy_score\n",
    "\n",
    "for clf in (svm_clf, nb_clf, dt_clf, mlp_clf, voting_clf):\n",
    "    print(clf.__class__.__name__)\n",
    "    ys_pred = clf.predict(xs_train)\n",
    "    print('\\ttrain:', accuracy_score(ys_train, ys_pred))\n",
    "    ys_pred = clf.predict(xs_test)\n",
    "    print('\\ttest:', accuracy_score(ys_test, ys_pred))"
   ]
  }
 ],
 "metadata": {
  "kernelspec": {
   "display_name": "Python 3 (ipykernel)",
   "language": "python",
   "name": "python3"
  },
  "language_info": {
   "codemirror_mode": {
    "name": "ipython",
    "version": 3
   },
   "file_extension": ".py",
   "mimetype": "text/x-python",
   "name": "python",
   "nbconvert_exporter": "python",
   "pygments_lexer": "ipython3",
   "version": "3.9.15"
  }
 },
 "nbformat": 4,
 "nbformat_minor": 5
}
