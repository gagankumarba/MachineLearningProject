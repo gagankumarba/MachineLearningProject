{
 "cells": [
  {
   "cell_type": "code",
   "execution_count": 1,
   "id": "142f9a0a",
   "metadata": {},
   "outputs": [],
   "source": [
    "import os\n",
    "import pandas as pd"
   ]
  },
  {
   "cell_type": "code",
   "execution_count": 2,
   "id": "e9d8831d",
   "metadata": {},
   "outputs": [],
   "source": [
    "def batch_dat2csv():\n",
    "\n",
    "    \"\"\"\n",
    "    # Function: convert all dat files (including subdirectories) in the py file directory to csv files\n",
    "    Action: Put dat2csv.ipynb into the folder to be processed to collate the contents of all the dat files in the folder \n",
    "    and output them as results.csv files\n",
    "    \"\"\"\n",
    "\n",
    "    # step 1: Get the path to the original folder\n",
    "    input_path = r\"data_original\"\n",
    "\n",
    "    # step 2: Get all paths to dat files\n",
    "    dat_files_list = []\n",
    "    for home, dirs, files in os.walk(input_path):\n",
    "        for filename in files:\n",
    "            if '.dat' in filename:\n",
    "                dat_files_list.append(os.path.join(home, filename))\n",
    "\n",
    "    # step 3: Read all dat files and save them to results.csv\n",
    "    with open('results.csv', 'w', encoding='utf-8') as f:\n",
    "        flag = 0\n",
    "        for dat_file_name in dat_files_list:\n",
    "            with open(dat_file_name, 'r', encoding='gbk') as infile:\n",
    "                for line in infile:\n",
    "                    if len(line) >= 3:  # Exclude the first line of the dat file\n",
    "                        f.write(','.join(list(filter(None, line.split(' ')))))  # Save to results.csv\n",
    "\n",
    "    print(\"\\n\\nSuccessfully deal with all the dat files\")"
   ]
  },
  {
   "cell_type": "code",
   "execution_count": 3,
   "id": "3a03fde4",
   "metadata": {},
   "outputs": [],
   "source": [
    "def readwrite(input_file, output_file):\n",
    "    \"\"\"\n",
    "    # Function: Delete the last column in the csv file that is not useful\n",
    "    Action: Read the csv file into dataframe format, then re-store the last column after eliminating it\n",
    "    \"\"\"\n",
    "    # pd.read_csv() The CSV file is read in and converted into a DataFrame form.\n",
    "    data = pd.read_csv(input_file, sep=',', header=None)\n",
    "    # pd.to_csv() writes a DataFrame to the local computer.\n",
    "    data.to_csv(output_file, sep=',', columns={0, 1, 2, 3, 4, 5, 6, 7, 8, 9, 10, 11, 12, 13, 14, 15, 16, 17, 18}, header=None, \n",
    "                index=False)"
   ]
  },
  {
   "cell_type": "code",
   "execution_count": 4,
   "id": "5914e4b6",
   "metadata": {},
   "outputs": [
    {
     "name": "stdout",
     "output_type": "stream",
     "text": [
      "\n",
      "\n",
      "Successfully deal with all the dat files\n"
     ]
    }
   ],
   "source": [
    "if __name__ == \"__main__\":  # Main function\n",
    "    batch_dat2csv()  # Convert dat files to csv files\n",
    "    readwrite(\"results.csv\",\"output.csv\")"
   ]
  },
  {
   "cell_type": "code",
   "execution_count": null,
   "id": "bf6a169d",
   "metadata": {},
   "outputs": [],
   "source": []
  }
 ],
 "metadata": {
  "kernelspec": {
   "display_name": "Python 3 (ipykernel)",
   "language": "python",
   "name": "python3"
  },
  "language_info": {
   "codemirror_mode": {
    "name": "ipython",
    "version": 3
   },
   "file_extension": ".py",
   "mimetype": "text/x-python",
   "name": "python",
   "nbconvert_exporter": "python",
   "pygments_lexer": "ipython3",
   "version": "3.8.13"
  }
 },
 "nbformat": 4,
 "nbformat_minor": 5
}
