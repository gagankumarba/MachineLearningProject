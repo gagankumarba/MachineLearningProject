{
 "cells": [
  {
   "cell_type": "code",
   "execution_count": 45,
   "id": "e1f855df",
   "metadata": {},
   "outputs": [
    {
     "name": "stdout",
     "output_type": "stream",
     "text": [
      "Accuracy: 0.6016746411483254\n",
      "Confusion matrix: [[159  10  13  27]\n",
      " [ 29 122  37  21]\n",
      " [ 36  42 107  24]\n",
      " [ 31  34  29 115]]\n"
     ]
    }
   ],
   "source": [
    "import pandas as pd\n",
    "import numpy as np\n",
    "from sklearn.preprocessing import StandardScaler\n",
    "from sklearn.decomposition import PCA\n",
    "from imblearn.over_sampling import SMOTE\n",
    "from sklearn.feature_selection import SelectKBest, chi2\n",
    "from sklearn.neighbors import KNeighborsClassifier\n",
    "from sklearn.metrics import accuracy_score, confusion_matrix\n",
    "\n",
    "# Load the data into a DataFrame\n",
    "df = pd.read_csv('cleaned_data.dat', header=None, sep=' ')\n",
    "\n",
    "# Drop the extra column\n",
    "# df = df.drop(columns=[19])\n",
    "\n",
    "# Rename the last column as the target variable\n",
    "df.rename(columns={18: 'target'}, inplace=True)\n",
    "\n",
    "# Convert the target variable to string datatype\n",
    "df['target'] = df['target'].astype(str)\n",
    "\n",
    "# Scale the integer features\n",
    "scaler = StandardScaler()\n",
    "X = np.abs(scaler.fit_transform(df.iloc[:, :-1]))\n",
    "\n",
    "# Perform feature selection\n",
    "selector = SelectKBest(chi2, k=10)\n",
    "X_new = selector.fit_transform(X, df['target'])\n",
    "\n",
    "# Perform dimensionality reduction\n",
    "pca = PCA(n_components=2)\n",
    "X_new = pca.fit_transform(X_new)\n",
    "\n",
    "# Handle class imbalance\n",
    "smote = SMOTE()\n",
    "X_resampled, y_resampled = smote.fit_resample(X_new, df['target'])\n",
    "\n",
    "# Train a k-NN classifier\n",
    "k = 5  # number of neighbors\n",
    "knn = KNeighborsClassifier(n_neighbors=k)\n",
    "knn.fit(X_resampled, y_resampled)\n",
    "\n",
    "# Make predictions on the test data\n",
    "y_pred = knn.predict(X_resampled)\n",
    "\n",
    "# Calculate the accuracy and confusion matrix\n",
    "print(\"Accuracy:\", accuracy_score(y_resampled, y_pred))\n",
    "print(\"Confusion matrix:\", confusion_matrix(y_resampled, y_pred))"
   ]
  },
  {
   "cell_type": "code",
   "execution_count": null,
   "id": "233c56be",
   "metadata": {},
   "outputs": [],
   "source": []
  }
 ],
 "metadata": {
  "kernelspec": {
   "display_name": "Python 3",
   "language": "python",
   "name": "python3"
  }
 },
 "nbformat": 4,
 "nbformat_minor": 5
}
